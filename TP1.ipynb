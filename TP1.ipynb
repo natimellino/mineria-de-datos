{
  "nbformat": 4,
  "nbformat_minor": 0,
  "metadata": {
    "colab": {
      "provenance": [],
      "collapsed_sections": [],
      "authorship_tag": "ABX9TyOUkKVpZLWyXSFGMQExhWcp"
    },
    "kernelspec": {
      "name": "ir",
      "display_name": "R"
    },
    "language_info": {
      "name": "R"
    }
  },
  "cells": [
    {
      "cell_type": "markdown",
      "source": [
        "# Trabajo Práctico 1\n",
        "## Mellino, Natalia"
      ],
      "metadata": {
        "id": "2MQJEKv2RVeC"
      }
    },
    {
      "cell_type": "code",
      "source": [
        "## Imports\n",
        "\n",
        "library(MASS)\n",
        "library(ggplot2)"
      ],
      "metadata": {
        "id": "ZNdVhJajYshh"
      },
      "execution_count": 54,
      "outputs": []
    },
    {
      "cell_type": "markdown",
      "source": [
        "## Ejercicio 1"
      ],
      "metadata": {
        "id": "FOEa0mGZRq3f"
      }
    },
    {
      "cell_type": "code",
      "source": [
        "## Apartado a)\n",
        "\n",
        "generar_diagonal <- function(n, d, C){\n",
        "  # Centros\n",
        "  center0 = rep(-1, times=d)\n",
        "  center1 = rep(1, times=d)\n",
        "\n",
        "  ## Matriz diagonal de desviación estándar\n",
        "  desviacion = C * sqrt(d)\n",
        "  matriz = diag(rep(desviacion, times=d))\n",
        "\n",
        "  ## Generamos los puntos aleatorios y construimos el dataframe\n",
        "  points0 = mvrnorm(floor(n / 2), center0, matriz)\n",
        "  points1 = mvrnorm(ceiling(n / 2), center1, matriz)\n",
        "\n",
        "  clase0 = cbind(points0, rep(0, times=floor(n / 2)))\n",
        "  clase1 = cbind(points1, rep(1, times=ceiling(n / 2)))\n",
        "\n",
        "  return(as.data.frame(rbind(clase0, clase1)))\n",
        "\n",
        "}"
      ],
      "metadata": {
        "id": "282JadT4R1Fk"
      },
      "execution_count": 47,
      "outputs": []
    },
    {
      "cell_type": "code",
      "source": [
        "data = generar_diagonal(500, 2, 0.5)\n",
        "with(data, plot(V1, V2, col = V3))"
      ],
      "metadata": {
        "id": "CKyLnVMjSf5y"
      },
      "execution_count": null,
      "outputs": []
    }
  ]
}