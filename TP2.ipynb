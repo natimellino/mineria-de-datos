{
 "cells": [
  {
   "cell_type": "markdown",
   "metadata": {},
   "source": [
    "# Trabajo Práctico 2:  Selección de Variables\n",
    "## Natalia Mellino"
   ]
  },
  {
   "cell_type": "code",
   "execution_count": 1,
   "metadata": {
    "vscode": {
     "languageId": "r"
    }
   },
   "outputs": [],
   "source": [
    "# Imports"
   ]
  },
  {
   "cell_type": "markdown",
   "metadata": {},
   "source": [
    "## Código de ejemplo dado"
   ]
  },
  {
   "cell_type": "code",
   "execution_count": 199,
   "metadata": {
    "vscode": {
     "languageId": "r"
    }
   },
   "outputs": [],
   "source": [
    "#-------------------------------------------------------------------------------------\n",
    "# AVISO: este codigo esta adaptado de un paquete mayor. \n",
    "# No es optimo y tiene cosas inutiles para nosotros. Es un ejemplo nada mas\n",
    "#\n",
    "#general forward greedy selection function\n",
    "#input:\n",
    "# x,y inputs and targets\n",
    "# method is an external function that estimates classification error with a given model\n",
    "# ... parameters for method\n",
    "#output:\n",
    "#ordered.names.list <- nombre de las variables ordenadas de la mas importante a la menos\n",
    "#ordered.features.list <-numero de orden inicial de las variables, con el mismo orden\n",
    "#importance <- importancia de cada variables en el mismo orden\n",
    "\n",
    "#-------------------------------------------------------------------------------------\n",
    "forward.ranking <- function(x,y,method,verbosity=0,... )\n",
    "{\n",
    "\n",
    "\tmax.feat<-dim(x)[2]\n",
    "\tnum.feat<-1\n",
    "\tlist.feat<-1:max.feat\n",
    "\n",
    "\t#ranking inicial: elijo la variable con menor error de prediccion\n",
    "    x.train<-matrix(0,dim(x)[1],1)\n",
    "\tclass.error<-double(max.feat)\n",
    "\t#para cada i, creo el dataset con esa variable sola, entreno un modelo y le mido el error, que lo guardo en class.error[i]\n",
    "\tfor(i in 1:max.feat){\n",
    "\t\tx.train[,1]<-x[,i]\n",
    "\t\tclass.error[i] <- do.call(method, c(list(x.train, y), list(...)) )\n",
    "\t}\n",
    "\t#guardo la variable con minimo error como primera. Guardo una lista keep.feat con las que me quedan para seguir eligiendo.\n",
    "\tlist.feat[1]<-which.min(class.error)\n",
    "\tkeep.feat<-sort(class.error,decreasing=FALSE,index=T)$ix[-1]\n",
    "\t#armo un dataset con las variables que ya elegi, para ir agregando en cada paso.\n",
    "\tx.prev<-x.train[,1]<-x[,list.feat[1]]\n",
    "\n",
    "\tif(verbosity>1) cat(\"\\nFirst feature: \",list.feat[1],\"\\n\")\n",
    "\n",
    "    #loop principal. A cada paso agrego todas las variables disponibles, de a una, le mido el error y me quedo con la de minimo error. Hasta llegar a meter todas.\n",
    "\twhile(num.feat<max.feat){\n",
    "        #class.error guarda el error de cada modelo. Son max.feat-num.feat modelos.\n",
    "\t\tclass.error<-double(max.feat-num.feat)\n",
    "\t\t#para cada variable que me queda, la agrego al dataset del paso anterior, entreno el modelo y le mido el error.\n",
    "\t\tfor(i in 1:(max.feat-num.feat)){\n",
    "\t\t\tx.train<-cbind(x.prev,x[,keep.feat[i]])\n",
    "\t\t\tclass.error[i] <- do.call(method, c(list(x.train, y), list(...)) )\n",
    "\t\t}\n",
    "\t\tif(verbosity>2) cat(\"\\nFeatures:\\n\",keep.feat,\"\\nErrors:\\n\",class.error)\n",
    "\t\t#me quedo con el modelo de minimo error, guardo ese feature en la lista de las elegidas, lo saco de la lista de las que quedan, y actualizo el dataset de partida de la iteracion.\n",
    "\t\tbest.index<-which.min(class.error)\n",
    "\t\tlist.feat[num.feat+1]<-keep.feat[best.index]\n",
    "\t\tif(verbosity>1) cat(\"\\n---------\\nStep \",1+num.feat,\"\\nFeature \",best.index)\n",
    "\n",
    "\t\tkeep.feat<-keep.feat[-best.index]\n",
    "\t\tif(verbosity>2) cat(\"\\nNew search list: \",keep.feat)\n",
    "\t\tnum.feat<-num.feat+1\n",
    "\t\tx.prev<-x[,list.feat[1:num.feat]]\n",
    "\t}\n",
    "\n",
    "\n",
    "\tsearch.names<-colnames(x)[list.feat]\n",
    "\t#le asigno a cada feature una importacia proporcional al orden en que lo seleccionamos\n",
    "\timp<-(max.feat:1)/max.feat\n",
    "\tnames(imp)<-search.names\n",
    "\n",
    "\tif(verbosity>1){\n",
    "\t\tcat(\"\\n---------\\nFinal ranking \",num.feat,\" features.\")\n",
    "\t\tcat(\"\\nFeatures: \",search.names,\"\\n\")\n",
    "\t}\n",
    "\n",
    " \treturn( list(ordered.names.list=search.names,ordered.features.list=list.feat,importance=imp) )\n",
    "\n",
    "}\n",
    "\n",
    "\n",
    "#---------------------------------------------------------------------------\n",
    "#random forest error estimation (OOB) for greedy search\n",
    "#---------------------------------------------------------------------------\n",
    "rf.est <- function(x.train,y,equalize.classes=TRUE,tot.trees=500,mtry=0)\n",
    "{\n",
    "\tif(mtry<1) mtry<-floor(sqrt(dim(x.train)[2]))\n",
    "\tprop.samples<-table(y)\n",
    "\tif(equalize.classes) prop.samples<-rep(min(prop.samples),length(prop.samples))\n",
    "\treturn( randomForest(x.train,y,mtry=mtry,ntree=tot.trees,sampsize=prop.samples)$err.rate[tot.trees] )\n",
    "}\n",
    "\n",
    "#---------------------------------------------------------------------------\n",
    "#LDA error estimation (LOO) for greedy search\n",
    "#---------------------------------------------------------------------------\n",
    "lda.est <- function(x.train,y)\n",
    "{\n",
    "\tm.lda <- lda(x.train,y,CV=TRUE)\n",
    "\treturn(error.rate( y , m.lda$class))\n",
    "}\n",
    "error.rate <- function(dataA, dataB) sum( dataA != dataB ) / length(dataB)\n",
    "\n",
    "#---------------------------------------------------------------------------\n",
    "#SVM error estimation (internal CV) for greedy search\n",
    "#---------------------------------------------------------------------------\n",
    "svm.est <- function(x.train,y,type=\"C-svc\",kernel=\"vanilladot\",C=1,cross = 4)\n",
    "{\n",
    "\treturn ( ksvm(x.train, y, type=type,kernel=kernel,C=C,cross = cross)@cross )\n",
    "}\n",
    "\n",
    "\n",
    "#---------------------------------------------------------------------------\n",
    "#random forest ranking method for rfe.\n",
    "#---------------------------------------------------------------------------\n",
    "imp.rf <- function(x.train,y,equalize.classes=TRUE,tot.trees=500,mtry=0)\n",
    "{\n",
    "\tif(mtry<1) mtry<-floor(sqrt(dim(x.train)[2]))\n",
    "\tprop.samples<-table(y)\n",
    "\tif(equalize.classes) prop.samples<-rep(min(prop.samples),length(prop.samples))\n",
    "\t\n",
    "\tm.rf<-randomForest(x.train,y,ntree=tot.trees,mtry=mtry,sampsize=prop.samples,importance=TRUE)\n",
    "\timp.mat<-importance(m.rf)\n",
    "\timp.col<-dim(imp.mat)[2]-1\n",
    "\trank.list<-sort(imp.mat[,imp.col],decreasing=FALSE,index=T)\n",
    "\treturn(list(feats=rank.list$ix,imp=rank.list$x))\n",
    "}\n",
    "\n",
    "\n",
    "#---------------------------------------------------------------------------\n",
    "#linear svm ranking method for rfe. Using kernlab. Multiclass\n",
    "#---------------------------------------------------------------------------\n",
    "imp.linsvm <- function(x.train,y,C=100)\n",
    "{\n",
    "\tnum.feat<-dim(x.train)[2]\n",
    "\ttot.problems<-nlevels(y)*(nlevels(y)-1)/2\n",
    "\n",
    "\tm.svm <- ksvm(as.matrix(x.train), y, type=\"C-svc\",kernel=\"vanilladot\",C=C)\n",
    "\n",
    "\tw<-rep(0.0,num.feat)\n",
    "\tfor(i in 1:tot.problems) for(feat in 1:num.feat)\n",
    "\t\tw[feat]<-w[feat]+abs(m.svm@coef[[i]] %*% m.svm@xmatrix[[i]][,feat])\n",
    "\trank.list<-sort(w,decreasing=FALSE,index=T)\n",
    "\treturn(list(feats=rank.list$ix,imp=rank.list$x))\n",
    "}\n",
    "\n",
    "\n",
    "#filter con kruskal esta en las slides\n",
    "\n",
    "\n",
    "library(randomForest)\n",
    "library(kernlab)\n",
    "library(MASS)\n",
    "\n",
    "#demo: aplicar el wrapper a los datos de iris\n",
    "data(iris)\n",
    "FORW.rf <-forward.ranking(iris[,-5],iris[,5],method=\"rf.est\" ,tot.trees=100,equalize.classes=F)\n",
    "FORW.lda<-forward.ranking(iris[,-5],iris[,5],method=\"lda.est\")\n",
    "\n",
    "\n",
    "#hacer una funcion que cree datos, 2 clases (-1 y 1,n puntos de cada una), d dimensiones, de ruido uniforme [-1,1], con la clase al azar\n",
    "\n",
    "crea.ruido.unif<-function(n=100,d=2){\n",
    "x<-runif(2*n*d,min=-1)\t#genero los datos\n",
    "dim(x)<-c(2*n,d)\n",
    "return(cbind(as.data.frame(x),y=factor(rep(c(-1,1),each=n))))\t#le agrego la clase\n",
    "}\n",
    "\n",
    "#datosA\n",
    "d<-10\n",
    "n<-1000\n",
    "datos<-crea.ruido.unif(n=n,d=d)\n",
    "\n",
    "#tomar 50% de los datos al azar, y hacer que la clase sea el signo de la 8 variable\n",
    "shuffle<-sample(1:dim(datos)[1])\n",
    "sub<-shuffle[1:dim(datos)[1]*0.5]\n",
    "datos[sub,d+1]<-sign(datos[sub,8])\n",
    "#tomar 20% de los datos al azar (fuera de los anteriores), y hacer que la clase sea el signo de la 6 variable\n",
    "sub<-shuffle[(dim(datos)[1]*0.5):(dim(datos)[1]*0.7)]\n",
    "datos[sub,d+1]<-sign(datos[sub,6])\n",
    "#tomar 10% de los datos al azar, y hacer que la clase sea el signo de la 4 variable\n",
    "sub<-shuffle[(dim(datos)[1]*0.7):(dim(datos)[1]*0.8)]\n",
    "datos[sub,d+1]<-sign(datos[sub,4])\n",
    "#tomar 5% de los datos al azar, y hacer que la clase sea el signo de la 2 variable\n",
    "sub<-shuffle[(dim(datos)[1]*0.8):(dim(datos)[1]*0.85)]\n",
    "datos[sub,d+1]<-sign(datos[sub,2])\n",
    "datos[,d+1]<-factor(datos[,d+1])\n",
    "\n",
    "datosA<-datos\n",
    "\n",
    "#datosB\n",
    "#generar n=100,d=8\n",
    "d<-8\n",
    "n<-1000\n",
    "datos<-crea.ruido.unif(n=n,d=d)\n",
    "#hacer que la clase sea el xor de las 2 primeras variables (es usando el signo)\n",
    "datos[,d+1]<-sign(datos[,1]*datos[,2])\n",
    "#hacer que las variables 3 y 4 tengan un 50% de correlacion con la clase\n",
    "shuffle<-sample(1:dim(datos)[1])\n",
    "sub<-shuffle[1:dim(datos)[1]*0.5]\n",
    "datos[sub,3]<-abs(datos[sub,3])*datos[sub,d+1]\n",
    "shuffle<-sample(1:dim(datos)[1])\n",
    "sub<-shuffle[1:dim(datos)[1]*0.5]\n",
    "datos[sub,4]<-abs(datos[sub,4])*datos[sub,d+1]\n",
    "datos[,d+1]<-factor(datos[,d+1])\n",
    "\n",
    "datosB<-datos\n",
    "\n"
   ]
  },
  {
   "cell_type": "markdown",
   "metadata": {},
   "source": [
    "## Ejercicio 1\n",
    "### Wrapper greedy backward"
   ]
  },
  {
   "cell_type": "code",
   "execution_count": 200,
   "metadata": {
    "vscode": {
     "languageId": "r"
    }
   },
   "outputs": [],
   "source": [
    "backward.ranking <- function(x, y, method, ...){\n",
    "\n",
    "    max.feat = dim(x)[2]\n",
    "\tlist.feat = 1 : max.feat\n",
    "\tkeep.feat = double(max.feat)\n",
    "\t  \n",
    "\t# Iteraremos hasta que eliminemos todos los features menos 1\n",
    "\n",
    "\twhile(length(list.feat) > 1){\n",
    "\t\tclass.error = double(length(list.feat))\n",
    "\t\t# Entrenamos y medimos el error para cada modelo sacando de a una feature a la vez\n",
    "\t\tfor(i in 1 : length(list.feat)){\n",
    "\t\t\tx.train = as.matrix(x[, list.feat[-i]])\n",
    "\t\t\tclass.error[i] = do.call(method, c(list(x.train, y), list(...)))\n",
    "\t\t}\n",
    "\t\t\n",
    "\t\t# Eliminamos el feature que nos da menos error al sacarlo (es el menos importante)\n",
    "\t\tmin.index = which.min(class.error)\n",
    "\t\tkeep.feat[length(list.feat)] = list.feat[min.index]\n",
    "\t\tlist.feat = list.feat[- min.index]\n",
    "\t}\n",
    "\t\n",
    "\t# El último feature en eliminar es el que haya quedado de las iteraciones anteriores.\n",
    "\tkeep.feat[1] = list.feat[1]\n",
    "\t\n",
    "\t# Preparamos la info\n",
    "\tsearch.names = colnames(x)[keep.feat]\n",
    "\timp = (max.feat : 1) / max.feat\n",
    "\tnames(imp) = search.names\n",
    "\t\n",
    " \treturn(list(ordered.names.list = search.names, \n",
    " \t            ordered.features.list = keep.feat, \n",
    " \t            imp = imp))\n",
    "\n",
    "}"
   ]
  },
  {
   "cell_type": "markdown",
   "metadata": {},
   "source": [
    "###  Filter con test no-paramétrico (Kruskal-Wallis)"
   ]
  },
  {
   "cell_type": "code",
   "execution_count": 182,
   "metadata": {
    "vscode": {
     "languageId": "r"
    }
   },
   "outputs": [],
   "source": [
    "kruskal.ranking <- function(x, y){\n",
    "    \n",
    "    size <- dim(x)[2]\n",
    "    ranking <- c()\n",
    "    for(i in 1 : size){\n",
    "        feature <- x[, i]\n",
    "        value <- kruskal.test(feature, y)$statistic\n",
    "        ranking[i] <- value \n",
    "    }\n",
    "\n",
    "    # Preparamos la info\n",
    "    ranking <- sort(ranking, decreasing=TRUE, index=T)$ix\n",
    "\t\n",
    "    search.names = colnames(x)[ranking]\n",
    "\n",
    "\timp = (size : 1) / size\n",
    "\tnames(imp) = search.names\n",
    "\t\n",
    "    \n",
    " \t\n",
    "    return(list(ordered.names.list = search.names, \n",
    " \t            ordered.features.list = ranking, \n",
    " \t            imp = imp))\n",
    "\n",
    "    \n",
    "}"
   ]
  },
  {
   "cell_type": "markdown",
   "metadata": {},
   "source": [
    "### RFE"
   ]
  },
  {
   "cell_type": "code",
   "execution_count": 157,
   "metadata": {
    "vscode": {
     "languageId": "r"
    }
   },
   "outputs": [],
   "source": [
    "rfe.ranking <- function(x, y, method, ...){\n",
    "\n",
    "    size <- dim(x)[2]\n",
    "    ranking <- 1 : size\n",
    "    features <- 1 : size\n",
    "\n",
    "    for(i in 1 : size){\n",
    "        train.data <- as.matrix(x[, features])\n",
    "        rank <- do.call(method, c(list(train.data, y), list(...)) )\n",
    "\n",
    "        last.ranked <- rank$feats[1]\n",
    "        \n",
    "        ranking[size - i + 1] <- features[last.ranked]\n",
    "        features <- features[-last.ranked]\n",
    "    }\n",
    "\n",
    "    # Preparamos la info\n",
    "\tsearch.names = colnames(x)[ranking]\n",
    "\timp = (size : 1) / size\n",
    "\tnames(imp) = search.names\n",
    "\t\n",
    " \treturn(list(ordered.names.list = search.names, \n",
    " \t            ordered.features.list = ranking, \n",
    " \t            imp = imp))\n",
    "}"
   ]
  },
  {
   "cell_type": "markdown",
   "metadata": {},
   "source": [
    "## Ejercicio 2"
   ]
  },
  {
   "cell_type": "code",
   "execution_count": 269,
   "metadata": {
    "vscode": {
     "languageId": "r"
    }
   },
   "outputs": [
    {
     "data": {
      "text/html": [
       "<style>\n",
       ".list-inline {list-style: none; margin:0; padding: 0}\n",
       ".list-inline>li {display: inline-block}\n",
       ".list-inline>li:not(:last-child)::after {content: \"\\00b7\"; padding: 0 .5ex}\n",
       "</style>\n",
       "<ol class=list-inline><li>2</li><li>1</li></ol>\n"
      ],
      "text/latex": [
       "\\begin{enumerate*}\n",
       "\\item 2\n",
       "\\item 1\n",
       "\\end{enumerate*}\n"
      ],
      "text/markdown": [
       "1. 2\n",
       "2. 1\n",
       "\n",
       "\n"
      ],
      "text/plain": [
       "[1] 2 1"
      ]
     },
     "metadata": {},
     "output_type": "display_data"
    }
   ],
   "source": [
    "# install.packages(\"gtools\") ## Uncomment if not already installed\n",
    "library(gtools)\n",
    "mixedorder(c(\"V10\", \"V2\"))"
   ]
  },
  {
   "cell_type": "code",
   "execution_count": 273,
   "metadata": {
    "vscode": {
     "languageId": "r"
    }
   },
   "outputs": [],
   "source": [
    "\n",
    "\n",
    "ordernar_nombres <- function(names, values){\n",
    "    indexes <- mixedorder(names)\n",
    "    sorted.values <- 1:length(indexes)\n",
    "    iterator <- 1\n",
    "    for(i in indexes){\n",
    "        sorted.values[iterator] <- values[i]\n",
    "        iterator <- iterator + 1\n",
    "    }\n",
    "\n",
    "    return(list(ordered.names=mixedsort(names), ordered.values=sorted.values))\n",
    "}\n"
   ]
  },
  {
   "cell_type": "code",
   "execution_count": 274,
   "metadata": {
    "vscode": {
     "languageId": "r"
    }
   },
   "outputs": [],
   "source": [
    "graficar_valores <- function(datos){\n",
    "    datos_ordenados <- ordernar_nombres(datos$ordered.names.list, unname(datos$imp))\n",
    "    names <- datos_ordenados$ordered.names\n",
    "    importance <- datos_ordenados$ordered.values\n",
    "    library(RColorBrewer)\n",
    "    coul <- brewer.pal(5, \"Set2\")\n",
    "    barplot(height=importance, names=names, col=coul)\n",
    "}"
   ]
  },
  {
   "cell_type": "code",
   "execution_count": 192,
   "metadata": {
    "vscode": {
     "languageId": "r"
    }
   },
   "outputs": [],
   "source": [
    "datosA.x = datosA[, -11]\n",
    "datosA.y = datosA[, 11]\n",
    "datosB.x = datosB[, -9]\n",
    "datosB.y = datosB[, 9] "
   ]
  },
  {
   "cell_type": "markdown",
   "metadata": {},
   "source": [
    "### Backward ranking con distintas funciones"
   ]
  },
  {
   "cell_type": "markdown",
   "metadata": {},
   "source": [
    "#### Dataset A"
   ]
  },
  {
   "cell_type": "code",
   "execution_count": 276,
   "metadata": {
    "vscode": {
     "languageId": "r"
    }
   },
   "outputs": [
    {
     "data": {
      "image/png": "[encoded data removed]",
      "text/plain": [
       "plot without title"
      ]
     },
     "metadata": {
      "image/png": {
       "height": 420,
       "width": 420
      }
     },
     "output_type": "display_data"
    }
   ],
   "source": [
    "# Random Forest\n",
    "datos <- backward.ranking(datosA.x, datosA.y, method=\"rf.est\")\n",
    "graficar_valores(datos)"
   ]
  },
  {
   "cell_type": "code",
   "execution_count": 275,
   "metadata": {
    "vscode": {
     "languageId": "r"
    }
   },
   "outputs": [
    {
     "data": {
      "image/png": "[encoded data removed]",
      "text/plain": [
       "plot without title"
      ]
     },
     "metadata": {
      "image/png": {
       "height": 420,
       "width": 420
      }
     },
     "output_type": "display_data"
    }
   ],
   "source": [
    "# LDA\n",
    "datos <- backward.ranking(datosA.x, datosA.y, method=\"lda.est\")\n",
    "graficar_valores(datos)\n"
   ]
  },
  {
   "cell_type": "code",
   "execution_count": 278,
   "metadata": {
    "vscode": {
     "languageId": "r"
    }
   },
   "outputs": [
    {
     "name": "stdout",
     "output_type": "stream",
     "text": [
      " Setting default kernel parameters  \n",
      " Setting default kernel parameters  \n",
      " Setting default kernel parameters  \n",
      " Setting default kernel parameters  \n",
      " Setting default kernel parameters  \n",
      " Setting default kernel parameters  \n",
      " Setting default kernel parameters  \n",
      " Setting default kernel parameters  \n",
      " Setting default kernel parameters  \n",
      " Setting default kernel parameters  \n",
      " Setting default kernel parameters  \n",
      " Setting default kernel parameters  \n",
      " Setting default kernel parameters  \n",
      " Setting default kernel parameters  \n",
      " Setting default kernel parameters  \n",
      " Setting default kernel parameters  \n",
      " Setting default kernel parameters  \n",
      " Setting default kernel parameters  \n",
      " Setting default kernel parameters  \n",
      " Setting default kernel parameters  \n",
      " Setting default kernel parameters  \n",
      " Setting default kernel parameters  \n",
      " Setting default kernel parameters  \n",
      " Setting default kernel parameters  \n",
      " Setting default kernel parameters  \n",
      " Setting default kernel parameters  \n",
      " Setting default kernel parameters  \n",
      " Setting default kernel parameters  \n",
      " Setting default kernel parameters  \n",
      " Setting default kernel parameters  \n",
      " Setting default kernel parameters  \n",
      " Setting default kernel parameters  \n",
      " Setting default kernel parameters  \n",
      " Setting default kernel parameters  \n",
      " Setting default kernel parameters  \n",
      " Setting default kernel parameters  \n",
      " Setting default kernel parameters  \n",
      " Setting default kernel parameters  \n",
      " Setting default kernel parameters  \n",
      " Setting default kernel parameters  \n",
      " Setting default kernel parameters  \n",
      " Setting default kernel parameters  \n",
      " Setting default kernel parameters  \n",
      " Setting default kernel parameters  \n",
      " Setting default kernel parameters  \n",
      " Setting default kernel parameters  \n",
      " Setting default kernel parameters  \n",
      " Setting default kernel parameters  \n",
      " Setting default kernel parameters  \n",
      " Setting default kernel parameters  \n",
      " Setting default kernel parameters  \n",
      " Setting default kernel parameters  \n",
      " Setting default kernel parameters  \n",
      " Setting default kernel parameters  \n"
     ]
    },
    {
     "data": {
      "image/png": "[encoded data removed]",
      "text/plain": [
       "plot without title"
      ]
     },
     "metadata": {
      "image/png": {
       "height": 420,
       "width": 420
      }
     },
     "output_type": "display_data"
    }
   ],
   "source": [
    "# SVM\n",
    "datos <- backward.ranking(datosA.x, datosA.y, method=\"svm.est\")\n",
    "graficar_valores(datos)"
   ]
  },
  {
   "cell_type": "markdown",
   "metadata": {},
   "source": [
    "#### Dataset B"
   ]
  },
  {
   "cell_type": "code",
   "execution_count": 201,
   "metadata": {
    "vscode": {
     "languageId": "r"
    }
   },
   "outputs": [
    {
     "data": {
      "text/html": [
       "<dl>\n",
       "\t<dt>$ordered.names.list</dt>\n",
       "\t\t<dd><style>\n",
       ".list-inline {list-style: none; margin:0; padding: 0}\n",
       ".list-inline>li {display: inline-block}\n",
       ".list-inline>li:not(:last-child)::after {content: \"\\00b7\"; padding: 0 .5ex}\n",
       "</style>\n",
       "<ol class=list-inline><li>'V2'</li><li>'V1'</li><li>'V8'</li><li>'V7'</li><li>'V6'</li><li>'V5'</li><li>'V3'</li><li>'V4'</li></ol>\n",
       "</dd>\n",
       "\t<dt>$ordered.features.list</dt>\n",
       "\t\t<dd><style>\n",
       ".list-inline {list-style: none; margin:0; padding: 0}\n",
       ".list-inline>li {display: inline-block}\n",
       ".list-inline>li:not(:last-child)::after {content: \"\\00b7\"; padding: 0 .5ex}\n",
       "</style>\n",
       "<ol class=list-inline><li>2</li><li>1</li><li>8</li><li>7</li><li>6</li><li>5</li><li>3</li><li>4</li></ol>\n",
       "</dd>\n",
       "\t<dt>$imp</dt>\n",
       "\t\t<dd><style>\n",
       ".dl-inline {width: auto; margin:0; padding: 0}\n",
       ".dl-inline>dt, .dl-inline>dd {float: none; width: auto; display: inline-block}\n",
       ".dl-inline>dt::after {content: \":\\0020\"; padding-right: .5ex}\n",
       ".dl-inline>dt:not(:first-of-type) {padding-left: .5ex}\n",
       "</style><dl class=dl-inline><dt>V2</dt><dd>1</dd><dt>V1</dt><dd>0.875</dd><dt>V8</dt><dd>0.75</dd><dt>V7</dt><dd>0.625</dd><dt>V6</dt><dd>0.5</dd><dt>V5</dt><dd>0.375</dd><dt>V3</dt><dd>0.25</dd><dt>V4</dt><dd>0.125</dd></dl>\n",
       "</dd>\n",
       "</dl>\n"
      ],
      "text/latex": [
       "\\begin{description}\n",
       "\\item[\\$ordered.names.list] \\begin{enumerate*}\n",
       "\\item 'V2'\n",
       "\\item 'V1'\n",
       "\\item 'V8'\n",
       "\\item 'V7'\n",
       "\\item 'V6'\n",
       "\\item 'V5'\n",
       "\\item 'V3'\n",
       "\\item 'V4'\n",
       "\\end{enumerate*}\n",
       "\n",
       "\\item[\\$ordered.features.list] \\begin{enumerate*}\n",
       "\\item 2\n",
       "\\item 1\n",
       "\\item 8\n",
       "\\item 7\n",
       "\\item 6\n",
       "\\item 5\n",
       "\\item 3\n",
       "\\item 4\n",
       "\\end{enumerate*}\n",
       "\n",
       "\\item[\\$imp] \\begin{description*}\n",
       "\\item[V2] 1\n",
       "\\item[V1] 0.875\n",
       "\\item[V8] 0.75\n",
       "\\item[V7] 0.625\n",
       "\\item[V6] 0.5\n",
       "\\item[V5] 0.375\n",
       "\\item[V3] 0.25\n",
       "\\item[V4] 0.125\n",
       "\\end{description*}\n",
       "\n",
       "\\end{description}\n"
      ],
      "text/markdown": [
       "$ordered.names.list\n",
       ":   1. 'V2'\n",
       "2. 'V1'\n",
       "3. 'V8'\n",
       "4. 'V7'\n",
       "5. 'V6'\n",
       "6. 'V5'\n",
       "7. 'V3'\n",
       "8. 'V4'\n",
       "\n",
       "\n",
       "\n",
       "$ordered.features.list\n",
       ":   1. 2\n",
       "2. 1\n",
       "3. 8\n",
       "4. 7\n",
       "5. 6\n",
       "6. 5\n",
       "7. 3\n",
       "8. 4\n",
       "\n",
       "\n",
       "\n",
       "$imp\n",
       ":   V2\n",
       ":   1V1\n",
       ":   0.875V8\n",
       ":   0.75V7\n",
       ":   0.625V6\n",
       ":   0.5V5\n",
       ":   0.375V3\n",
       ":   0.25V4\n",
       ":   0.125\n",
       "\n",
       "\n",
       "\n",
       "\n"
      ],
      "text/plain": [
       "$ordered.names.list\n",
       "[1] \"V2\" \"V1\" \"V8\" \"V7\" \"V6\" \"V5\" \"V3\" \"V4\"\n",
       "\n",
       "$ordered.features.list\n",
       "[1] 2 1 8 7 6 5 3 4\n",
       "\n",
       "$imp\n",
       "   V2    V1    V8    V7    V6    V5    V3    V4 \n",
       "1.000 0.875 0.750 0.625 0.500 0.375 0.250 0.125 \n"
      ]
     },
     "metadata": {},
     "output_type": "display_data"
    }
   ],
   "source": [
    "# Random Forest\n",
    "backward.ranking(datosB.x, datosB.y, method=\"rf.est\")"
   ]
  },
  {
   "cell_type": "code",
   "execution_count": 202,
   "metadata": {
    "vscode": {
     "languageId": "r"
    }
   },
   "outputs": [
    {
     "data": {
      "text/html": [
       "<dl>\n",
       "\t<dt>$ordered.names.list</dt>\n",
       "\t\t<dd><style>\n",
       ".list-inline {list-style: none; margin:0; padding: 0}\n",
       ".list-inline>li {display: inline-block}\n",
       ".list-inline>li:not(:last-child)::after {content: \"\\00b7\"; padding: 0 .5ex}\n",
       "</style>\n",
       "<ol class=list-inline><li>'V4'</li><li>'V3'</li><li>'V8'</li><li>'V7'</li><li>'V6'</li><li>'V5'</li><li>'V1'</li><li>'V2'</li></ol>\n",
       "</dd>\n",
       "\t<dt>$ordered.features.list</dt>\n",
       "\t\t<dd><style>\n",
       ".list-inline {list-style: none; margin:0; padding: 0}\n",
       ".list-inline>li {display: inline-block}\n",
       ".list-inline>li:not(:last-child)::after {content: \"\\00b7\"; padding: 0 .5ex}\n",
       "</style>\n",
       "<ol class=list-inline><li>4</li><li>3</li><li>8</li><li>7</li><li>6</li><li>5</li><li>1</li><li>2</li></ol>\n",
       "</dd>\n",
       "\t<dt>$imp</dt>\n",
       "\t\t<dd><style>\n",
       ".dl-inline {width: auto; margin:0; padding: 0}\n",
       ".dl-inline>dt, .dl-inline>dd {float: none; width: auto; display: inline-block}\n",
       ".dl-inline>dt::after {content: \":\\0020\"; padding-right: .5ex}\n",
       ".dl-inline>dt:not(:first-of-type) {padding-left: .5ex}\n",
       "</style><dl class=dl-inline><dt>V4</dt><dd>1</dd><dt>V3</dt><dd>0.875</dd><dt>V8</dt><dd>0.75</dd><dt>V7</dt><dd>0.625</dd><dt>V6</dt><dd>0.5</dd><dt>V5</dt><dd>0.375</dd><dt>V1</dt><dd>0.25</dd><dt>V2</dt><dd>0.125</dd></dl>\n",
       "</dd>\n",
       "</dl>\n"
      ],
      "text/latex": [
       "\\begin{description}\n",
       "\\item[\\$ordered.names.list] \\begin{enumerate*}\n",
       "\\item 'V4'\n",
       "\\item 'V3'\n",
       "\\item 'V8'\n",
       "\\item 'V7'\n",
       "\\item 'V6'\n",
       "\\item 'V5'\n",
       "\\item 'V1'\n",
       "\\item 'V2'\n",
       "\\end{enumerate*}\n",
       "\n",
       "\\item[\\$ordered.features.list] \\begin{enumerate*}\n",
       "\\item 4\n",
       "\\item 3\n",
       "\\item 8\n",
       "\\item 7\n",
       "\\item 6\n",
       "\\item 5\n",
       "\\item 1\n",
       "\\item 2\n",
       "\\end{enumerate*}\n",
       "\n",
       "\\item[\\$imp] \\begin{description*}\n",
       "\\item[V4] 1\n",
       "\\item[V3] 0.875\n",
       "\\item[V8] 0.75\n",
       "\\item[V7] 0.625\n",
       "\\item[V6] 0.5\n",
       "\\item[V5] 0.375\n",
       "\\item[V1] 0.25\n",
       "\\item[V2] 0.125\n",
       "\\end{description*}\n",
       "\n",
       "\\end{description}\n"
      ],
      "text/markdown": [
       "$ordered.names.list\n",
       ":   1. 'V4'\n",
       "2. 'V3'\n",
       "3. 'V8'\n",
       "4. 'V7'\n",
       "5. 'V6'\n",
       "6. 'V5'\n",
       "7. 'V1'\n",
       "8. 'V2'\n",
       "\n",
       "\n",
       "\n",
       "$ordered.features.list\n",
       ":   1. 4\n",
       "2. 3\n",
       "3. 8\n",
       "4. 7\n",
       "5. 6\n",
       "6. 5\n",
       "7. 1\n",
       "8. 2\n",
       "\n",
       "\n",
       "\n",
       "$imp\n",
       ":   V4\n",
       ":   1V3\n",
       ":   0.875V8\n",
       ":   0.75V7\n",
       ":   0.625V6\n",
       ":   0.5V5\n",
       ":   0.375V1\n",
       ":   0.25V2\n",
       ":   0.125\n",
       "\n",
       "\n",
       "\n",
       "\n"
      ],
      "text/plain": [
       "$ordered.names.list\n",
       "[1] \"V4\" \"V3\" \"V8\" \"V7\" \"V6\" \"V5\" \"V1\" \"V2\"\n",
       "\n",
       "$ordered.features.list\n",
       "[1] 4 3 8 7 6 5 1 2\n",
       "\n",
       "$imp\n",
       "   V4    V3    V8    V7    V6    V5    V1    V2 \n",
       "1.000 0.875 0.750 0.625 0.500 0.375 0.250 0.125 \n"
      ]
     },
     "metadata": {},
     "output_type": "display_data"
    }
   ],
   "source": [
    "# LDA\n",
    "backward.ranking(datosB.x, datosB.y, method=\"lda.est\")"
   ]
  },
  {
   "cell_type": "code",
   "execution_count": 203,
   "metadata": {
    "vscode": {
     "languageId": "r"
    }
   },
   "outputs": [
    {
     "name": "stdout",
     "output_type": "stream",
     "text": [
      " Setting default kernel parameters  \n",
      " Setting default kernel parameters  \n",
      " Setting default kernel parameters  \n",
      " Setting default kernel parameters  \n",
      " Setting default kernel parameters  \n",
      " Setting default kernel parameters  \n",
      " Setting default kernel parameters  \n",
      " Setting default kernel parameters  \n",
      " Setting default kernel parameters  \n",
      " Setting default kernel parameters  \n",
      " Setting default kernel parameters  \n",
      " Setting default kernel parameters  \n",
      " Setting default kernel parameters  \n",
      " Setting default kernel parameters  \n",
      " Setting default kernel parameters  \n",
      " Setting default kernel parameters  \n",
      " Setting default kernel parameters  \n",
      " Setting default kernel parameters  \n",
      " Setting default kernel parameters  \n",
      " Setting default kernel parameters  \n",
      " Setting default kernel parameters  \n",
      " Setting default kernel parameters  \n",
      " Setting default kernel parameters  \n",
      " Setting default kernel parameters  \n",
      " Setting default kernel parameters  \n",
      " Setting default kernel parameters  \n",
      " Setting default kernel parameters  \n",
      " Setting default kernel parameters  \n",
      " Setting default kernel parameters  \n",
      " Setting default kernel parameters  \n",
      " Setting default kernel parameters  \n",
      " Setting default kernel parameters  \n",
      " Setting default kernel parameters  \n",
      " Setting default kernel parameters  \n",
      " Setting default kernel parameters  \n"
     ]
    },
    {
     "data": {
      "text/html": [
       "<dl>\n",
       "\t<dt>$ordered.names.list</dt>\n",
       "\t\t<dd><style>\n",
       ".list-inline {list-style: none; margin:0; padding: 0}\n",
       ".list-inline>li {display: inline-block}\n",
       ".list-inline>li:not(:last-child)::after {content: \"\\00b7\"; padding: 0 .5ex}\n",
       "</style>\n",
       "<ol class=list-inline><li>'V4'</li><li>'V3'</li><li>'V8'</li><li>'V5'</li><li>'V6'</li><li>'V2'</li><li>'V7'</li><li>'V1'</li></ol>\n",
       "</dd>\n",
       "\t<dt>$ordered.features.list</dt>\n",
       "\t\t<dd><style>\n",
       ".list-inline {list-style: none; margin:0; padding: 0}\n",
       ".list-inline>li {display: inline-block}\n",
       ".list-inline>li:not(:last-child)::after {content: \"\\00b7\"; padding: 0 .5ex}\n",
       "</style>\n",
       "<ol class=list-inline><li>4</li><li>3</li><li>8</li><li>5</li><li>6</li><li>2</li><li>7</li><li>1</li></ol>\n",
       "</dd>\n",
       "\t<dt>$imp</dt>\n",
       "\t\t<dd><style>\n",
       ".dl-inline {width: auto; margin:0; padding: 0}\n",
       ".dl-inline>dt, .dl-inline>dd {float: none; width: auto; display: inline-block}\n",
       ".dl-inline>dt::after {content: \":\\0020\"; padding-right: .5ex}\n",
       ".dl-inline>dt:not(:first-of-type) {padding-left: .5ex}\n",
       "</style><dl class=dl-inline><dt>V4</dt><dd>1</dd><dt>V3</dt><dd>0.875</dd><dt>V8</dt><dd>0.75</dd><dt>V5</dt><dd>0.625</dd><dt>V6</dt><dd>0.5</dd><dt>V2</dt><dd>0.375</dd><dt>V7</dt><dd>0.25</dd><dt>V1</dt><dd>0.125</dd></dl>\n",
       "</dd>\n",
       "</dl>\n"
      ],
      "text/latex": [
       "\\begin{description}\n",
       "\\item[\\$ordered.names.list] \\begin{enumerate*}\n",
       "\\item 'V4'\n",
       "\\item 'V3'\n",
       "\\item 'V8'\n",
       "\\item 'V5'\n",
       "\\item 'V6'\n",
       "\\item 'V2'\n",
       "\\item 'V7'\n",
       "\\item 'V1'\n",
       "\\end{enumerate*}\n",
       "\n",
       "\\item[\\$ordered.features.list] \\begin{enumerate*}\n",
       "\\item 4\n",
       "\\item 3\n",
       "\\item 8\n",
       "\\item 5\n",
       "\\item 6\n",
       "\\item 2\n",
       "\\item 7\n",
       "\\item 1\n",
       "\\end{enumerate*}\n",
       "\n",
       "\\item[\\$imp] \\begin{description*}\n",
       "\\item[V4] 1\n",
       "\\item[V3] 0.875\n",
       "\\item[V8] 0.75\n",
       "\\item[V5] 0.625\n",
       "\\item[V6] 0.5\n",
       "\\item[V2] 0.375\n",
       "\\item[V7] 0.25\n",
       "\\item[V1] 0.125\n",
       "\\end{description*}\n",
       "\n",
       "\\end{description}\n"
      ],
      "text/markdown": [
       "$ordered.names.list\n",
       ":   1. 'V4'\n",
       "2. 'V3'\n",
       "3. 'V8'\n",
       "4. 'V5'\n",
       "5. 'V6'\n",
       "6. 'V2'\n",
       "7. 'V7'\n",
       "8. 'V1'\n",
       "\n",
       "\n",
       "\n",
       "$ordered.features.list\n",
       ":   1. 4\n",
       "2. 3\n",
       "3. 8\n",
       "4. 5\n",
       "5. 6\n",
       "6. 2\n",
       "7. 7\n",
       "8. 1\n",
       "\n",
       "\n",
       "\n",
       "$imp\n",
       ":   V4\n",
       ":   1V3\n",
       ":   0.875V8\n",
       ":   0.75V5\n",
       ":   0.625V6\n",
       ":   0.5V2\n",
       ":   0.375V7\n",
       ":   0.25V1\n",
       ":   0.125\n",
       "\n",
       "\n",
       "\n",
       "\n"
      ],
      "text/plain": [
       "$ordered.names.list\n",
       "[1] \"V4\" \"V3\" \"V8\" \"V5\" \"V6\" \"V2\" \"V7\" \"V1\"\n",
       "\n",
       "$ordered.features.list\n",
       "[1] 4 3 8 5 6 2 7 1\n",
       "\n",
       "$imp\n",
       "   V4    V3    V8    V5    V6    V2    V7    V1 \n",
       "1.000 0.875 0.750 0.625 0.500 0.375 0.250 0.125 \n"
      ]
     },
     "metadata": {},
     "output_type": "display_data"
    }
   ],
   "source": [
    "# SVM\n",
    "backward.ranking(datosB.x, datosB.y, method=\"svm.est\")"
   ]
  },
  {
   "cell_type": "markdown",
   "metadata": {},
   "source": [
    "### Kruskal"
   ]
  },
  {
   "cell_type": "markdown",
   "metadata": {},
   "source": [
    "### RFE con distintas funciones"
   ]
  }
 ],
 "metadata": {
  "kernelspec": {
   "display_name": "R",
   "language": "R",
   "name": "ir"
  },
  "language_info": {
   "codemirror_mode": "r",
   "file_extension": ".r",
   "mimetype": "text/x-r-source",
   "name": "R",
   "pygments_lexer": "r",
   "version": "4.2.1"
  },
  "orig_nbformat": 4
 },
 "nbformat": 4,
 "nbformat_minor": 2
}
