{
 "cells": [
  {
   "cell_type": "markdown",
   "metadata": {},
   "source": [
    "# Trabajo práctico N° 4\n",
    "## Mellino, Natalia"
   ]
  },
  {
   "cell_type": "code",
   "execution_count": 16,
   "metadata": {
    "vscode": {
     "languageId": "r"
    }
   },
   "outputs": [],
   "source": [
    "## Imports\n",
    "# install.packages(\"adabag\")\n",
    "library(\"adabag\")\n",
    "library(\"randomForest\")\n",
    "library(\"e1071\")"
   ]
  },
  {
   "cell_type": "markdown",
   "metadata": {},
   "source": [
    "## Ejercicio 1"
   ]
  },
  {
   "cell_type": "code",
   "execution_count": 2,
   "metadata": {
    "vscode": {
     "languageId": "r"
    }
   },
   "outputs": [
    {
     "data": {
      "text/plain": [
       "           Length Class   Mode     \n",
       "formula      3    formula call     \n",
       "trees       10    -none-  list     \n",
       "weights     10    -none-  numeric  \n",
       "votes      225    -none-  numeric  \n",
       "prob       225    -none-  numeric  \n",
       "class       75    -none-  character\n",
       "importance   4    -none-  numeric  \n",
       "terms        3    terms   call     \n",
       "call         6    -none-  call     "
      ]
     },
     "metadata": {},
     "output_type": "display_data"
    }
   ],
   "source": [
    "## Ejemplo\n",
    "data(\"iris\")\n",
    "train <- c(sample(1:50, 25), sample(51:100, 25), sample(101:150, 25))\n",
    "iris.adaboost <- boosting(Species ~ ., data=iris[train, ], mfinal=10, coef=\"Freund\", control=rpart.control(maxdepth=3))\n",
    "summary(iris.adaboost)"
   ]
  },
  {
   "cell_type": "code",
   "execution_count": null,
   "metadata": {
    "vscode": {
     "languageId": "r"
    }
   },
   "outputs": [],
   "source": []
  },
  {
   "cell_type": "code",
   "execution_count": 3,
   "metadata": {
    "vscode": {
     "languageId": "r"
    }
   },
   "outputs": [
    {
     "name": "stdout",
     "output_type": "stream",
     "text": [
      "Loading objects:\n",
      "  esp_train\n",
      "  RRL\n",
      "  esp_test\n",
      "  diag_test\n",
      "  .Random.seed\n",
      "  diag_train\n"
     ]
    }
   ],
   "source": [
    "load(\"TP4.Rdata\", verbose=T)"
   ]
  },
  {
   "cell_type": "markdown",
   "metadata": {},
   "source": [
    "### Espirales con ruido"
   ]
  },
  {
   "cell_type": "code",
   "execution_count": 4,
   "metadata": {
    "vscode": {
     "languageId": "r"
    }
   },
   "outputs": [
    {
     "data": {
      "image/png": "[encoded data removed]",
      "text/plain": [
       "plot without title"
      ]
     },
     "metadata": {
      "image/png": {
       "height": 420,
       "width": 420
      }
     },
     "output_type": "display_data"
    }
   ],
   "source": [
    "esp.errores <- c()\n",
    "for(i in 1:20){\n",
    "    esp.adaboost <- boosting(class ~ ., data=esp_train, mfinal=200, coef=\"Freund\", control=rpart.control(maxdepth=i))\n",
    "    pred <- predict(esp.adaboost, esp_test)\n",
    "    esp.errores <- c(esp.errores, pred$error)\n",
    "}\n",
    "\n",
    "plot(c(1:20), esp.errores, type=\"l\", xlab=\"Profundidad\", ylab=\"Error\", ylim=c(0,1))"
   ]
  },
  {
   "cell_type": "markdown",
   "metadata": {},
   "source": [
    "### Conclusiones\n",
    "\n",
    "Vemos que el error se mantiene con muy poca variación, por lo que el nivel de profundidad no afecta demasiado al error de nuestro modelo. Sin embargo la performance no es buena para ningún valor, ya que estamos teniendo un error de mas o menos 40%. Lo que si podemos ver que el error es ligeramente mayor cuando el nivel de profundidad muy chico (entre 1 y 5). Habría que probar el dataset de espirales sin ruido y ver que tan suceptible es este método al mismo."
   ]
  },
  {
   "cell_type": "markdown",
   "metadata": {},
   "source": [
    "### Diagonal"
   ]
  },
  {
   "cell_type": "code",
   "execution_count": 6,
   "metadata": {
    "vscode": {
     "languageId": "r"
    }
   },
   "outputs": [
    {
     "data": {
      "image/png": "[encoded data removed]",
      "text/plain": [
       "plot without title"
      ]
     },
     "metadata": {
      "image/png": {
       "height": 420,
       "width": 420
      }
     },
     "output_type": "display_data"
    }
   ],
   "source": [
    "diag.errores <- c()\n",
    "for(i in 1:20){\n",
    "    diag.adaboost <- boosting(class ~ ., data=diag_train, mfinal=200, coef=\"Freund\", control=rpart.control(maxdepth=i))\n",
    "    pred <- predict(diag.adaboost, diag_test)\n",
    "    diag.errores <- c(diag.errores, pred$error)\n",
    "}\n",
    "\n",
    "plot(c(1:20), diag.errores, type=\"l\", xlab=\"Profundidad\", ylab=\"Error\", ylim=c(0,1))"
   ]
  },
  {
   "cell_type": "markdown",
   "metadata": {},
   "source": [
    "### Conclusiones"
   ]
  },
  {
   "cell_type": "markdown",
   "metadata": {},
   "source": [
    "En este caso tenemos un error más bajo, podría decirse que aceptable. Lo que notamos acá a comparación del anterior es que la curva de error se mantiene bastante llana, sin grandes variaciones. El nivel de profundidad afecta menos que en el problema de las espirales con ruido."
   ]
  },
  {
   "cell_type": "markdown",
   "metadata": {},
   "source": [
    "## Ejercicio 2"
   ]
  },
  {
   "cell_type": "code",
   "execution_count": 15,
   "metadata": {
    "vscode": {
     "languageId": "r"
    }
   },
   "outputs": [
    {
     "data": {
      "text/html": [
       "<table class=\"dataframe\">\n",
       "<caption>A data.frame: 6 × 70</caption>\n",
       "<thead>\n",
       "\t<tr><th></th><th scope=col>Amplitude</th><th scope=col>AndersonDarling</th><th scope=col>Autocor_length</th><th scope=col>Beyond1Std</th><th scope=col>CAR_mean</th><th scope=col>CAR_sigma</th><th scope=col>CAR_tau</th><th scope=col>Con</th><th scope=col>Eta_e</th><th scope=col>FluxPercentileRatioMid20</th><th scope=col>⋯</th><th scope=col>c89_m4</th><th scope=col>cnt</th><th scope=col>n09_c3</th><th scope=col>n09_hk_color</th><th scope=col>n09_jh_color</th><th scope=col>n09_jk_color</th><th scope=col>n09_m2</th><th scope=col>n09_m4</th><th scope=col>ppmb</th><th scope=col>Tipo</th></tr>\n",
       "\t<tr><th></th><th scope=col>&lt;dbl&gt;</th><th scope=col>&lt;dbl&gt;</th><th scope=col>&lt;int&gt;</th><th scope=col>&lt;dbl&gt;</th><th scope=col>&lt;dbl&gt;</th><th scope=col>&lt;dbl&gt;</th><th scope=col>&lt;dbl&gt;</th><th scope=col>&lt;dbl&gt;</th><th scope=col>&lt;dbl&gt;</th><th scope=col>&lt;dbl&gt;</th><th scope=col>⋯</th><th scope=col>&lt;dbl&gt;</th><th scope=col>&lt;int&gt;</th><th scope=col>&lt;dbl&gt;</th><th scope=col>&lt;dbl&gt;</th><th scope=col>&lt;dbl&gt;</th><th scope=col>&lt;dbl&gt;</th><th scope=col>&lt;dbl&gt;</th><th scope=col>&lt;dbl&gt;</th><th scope=col>&lt;dbl&gt;</th><th scope=col>&lt;fct&gt;</th></tr>\n",
       "</thead>\n",
       "<tbody>\n",
       "\t<tr><th scope=row>1</th><td>0.12125</td><td>0.6320207</td><td>1</td><td>0.2835821</td><td>  26.96911</td><td>-2.053218e-08</td><td>0.594827064</td><td>0</td><td>  1363382.6</td><td>0.21739130</td><td>⋯</td><td>    15.60932</td><td> 67</td><td>3.322270e-01</td><td>-1.150879e-02</td><td>3.124268e-01</td><td>0.3009180</td><td>   15.73283</td><td>   15.74282</td><td>0.209575117</td><td>0</td></tr>\n",
       "\t<tr><th scope=row>2</th><td>0.11900</td><td>0.6567491</td><td>1</td><td>0.2794118</td><td>  27.34302</td><td> 3.789182e-09</td><td>0.594920127</td><td>0</td><td>  1134045.3</td><td>0.10576923</td><td>⋯</td><td>    15.79620</td><td> 68</td><td>2.538926e-01</td><td> 5.294659e-02</td><td>3.438380e-01</td><td>0.3967845</td><td>   15.92177</td><td>   15.93016</td><td>0.006674408</td><td>0</td></tr>\n",
       "\t<tr><th scope=row>3</th><td>0.28200</td><td>1.0000000</td><td>1</td><td>0.2318841</td><td>3817.29126</td><td>-4.223939e+00</td><td>0.003960514</td><td>0</td><td>  2425723.6</td><td>0.05839416</td><td>⋯</td><td>    14.43619</td><td> 69</td><td>2.392369e-01</td><td> 7.562047e-02</td><td>3.703775e-01</td><td>0.4459980</td><td>   14.57444</td><td>   14.58119</td><td>0.166880861</td><td>0</td></tr>\n",
       "\t<tr><th scope=row>4</th><td>0.04375</td><td>0.9999802</td><td>1</td><td>0.1818182</td><td>  23.08996</td><td>-2.235318e-02</td><td>0.595819184</td><td>0</td><td>   677993.1</td><td>0.21311475</td><td>⋯</td><td>    13.21403</td><td> 66</td><td>2.702403e-01</td><td> 1.058040e-01</td><td>4.507252e-01</td><td>0.5565292</td><td>   13.34951</td><td>   13.35817</td><td>0.528596205</td><td>0</td></tr>\n",
       "\t<tr><th scope=row>5</th><td>0.33000</td><td>0.4083999</td><td>1</td><td>0.2954545</td><td>  27.73315</td><td> 3.789182e-09</td><td>0.594920127</td><td>0</td><td>824000203.6</td><td>0.16428571</td><td>⋯</td><td>-12683.95082</td><td>132</td><td>2.718148e+04</td><td>-1.001544e+04</td><td>1.001586e+04</td><td>0.4185631</td><td>-9999.60320</td><td>-9158.22601</td><td>0.104860550</td><td>0</td></tr>\n",
       "\t<tr><th scope=row>6</th><td>0.23450</td><td>0.4528910</td><td>1</td><td>0.3288591</td><td>  27.32995</td><td> 4.427833e-09</td><td>0.595191814</td><td>0</td><td>195875889.9</td><td>0.18137255</td><td>⋯</td><td>    15.21148</td><td>149</td><td>3.472547e-01</td><td> 9.518029e-02</td><td>5.111292e-01</td><td>0.6063095</td><td>   15.42667</td><td>   15.43705</td><td>2.093833499</td><td>0</td></tr>\n",
       "</tbody>\n",
       "</table>\n"
      ],
      "text/latex": [
       "A data.frame: 6 × 70\n",
       "\\begin{tabular}{r|lllllllllllllllllllll}\n",
       "  & Amplitude & AndersonDarling & Autocor\\_length & Beyond1Std & CAR\\_mean & CAR\\_sigma & CAR\\_tau & Con & Eta\\_e & FluxPercentileRatioMid20 & ⋯ & c89\\_m4 & cnt & n09\\_c3 & n09\\_hk\\_color & n09\\_jh\\_color & n09\\_jk\\_color & n09\\_m2 & n09\\_m4 & ppmb & Tipo\\\\\n",
       "  & <dbl> & <dbl> & <int> & <dbl> & <dbl> & <dbl> & <dbl> & <dbl> & <dbl> & <dbl> & ⋯ & <dbl> & <int> & <dbl> & <dbl> & <dbl> & <dbl> & <dbl> & <dbl> & <dbl> & <fct>\\\\\n",
       "\\hline\n",
       "\t1 & 0.12125 & 0.6320207 & 1 & 0.2835821 &   26.96911 & -2.053218e-08 & 0.594827064 & 0 &   1363382.6 & 0.21739130 & ⋯ &     15.60932 &  67 & 3.322270e-01 & -1.150879e-02 & 3.124268e-01 & 0.3009180 &    15.73283 &    15.74282 & 0.209575117 & 0\\\\\n",
       "\t2 & 0.11900 & 0.6567491 & 1 & 0.2794118 &   27.34302 &  3.789182e-09 & 0.594920127 & 0 &   1134045.3 & 0.10576923 & ⋯ &     15.79620 &  68 & 2.538926e-01 &  5.294659e-02 & 3.438380e-01 & 0.3967845 &    15.92177 &    15.93016 & 0.006674408 & 0\\\\\n",
       "\t3 & 0.28200 & 1.0000000 & 1 & 0.2318841 & 3817.29126 & -4.223939e+00 & 0.003960514 & 0 &   2425723.6 & 0.05839416 & ⋯ &     14.43619 &  69 & 2.392369e-01 &  7.562047e-02 & 3.703775e-01 & 0.4459980 &    14.57444 &    14.58119 & 0.166880861 & 0\\\\\n",
       "\t4 & 0.04375 & 0.9999802 & 1 & 0.1818182 &   23.08996 & -2.235318e-02 & 0.595819184 & 0 &    677993.1 & 0.21311475 & ⋯ &     13.21403 &  66 & 2.702403e-01 &  1.058040e-01 & 4.507252e-01 & 0.5565292 &    13.34951 &    13.35817 & 0.528596205 & 0\\\\\n",
       "\t5 & 0.33000 & 0.4083999 & 1 & 0.2954545 &   27.73315 &  3.789182e-09 & 0.594920127 & 0 & 824000203.6 & 0.16428571 & ⋯ & -12683.95082 & 132 & 2.718148e+04 & -1.001544e+04 & 1.001586e+04 & 0.4185631 & -9999.60320 & -9158.22601 & 0.104860550 & 0\\\\\n",
       "\t6 & 0.23450 & 0.4528910 & 1 & 0.3288591 &   27.32995 &  4.427833e-09 & 0.595191814 & 0 & 195875889.9 & 0.18137255 & ⋯ &     15.21148 & 149 & 3.472547e-01 &  9.518029e-02 & 5.111292e-01 & 0.6063095 &    15.42667 &    15.43705 & 2.093833499 & 0\\\\\n",
       "\\end{tabular}\n"
      ],
      "text/markdown": [
       "\n",
       "A data.frame: 6 × 70\n",
       "\n",
       "| <!--/--> | Amplitude &lt;dbl&gt; | AndersonDarling &lt;dbl&gt; | Autocor_length &lt;int&gt; | Beyond1Std &lt;dbl&gt; | CAR_mean &lt;dbl&gt; | CAR_sigma &lt;dbl&gt; | CAR_tau &lt;dbl&gt; | Con &lt;dbl&gt; | Eta_e &lt;dbl&gt; | FluxPercentileRatioMid20 &lt;dbl&gt; | ⋯ ⋯ | c89_m4 &lt;dbl&gt; | cnt &lt;int&gt; | n09_c3 &lt;dbl&gt; | n09_hk_color &lt;dbl&gt; | n09_jh_color &lt;dbl&gt; | n09_jk_color &lt;dbl&gt; | n09_m2 &lt;dbl&gt; | n09_m4 &lt;dbl&gt; | ppmb &lt;dbl&gt; | Tipo &lt;fct&gt; |\n",
       "|---|---|---|---|---|---|---|---|---|---|---|---|---|---|---|---|---|---|---|---|---|---|\n",
       "| 1 | 0.12125 | 0.6320207 | 1 | 0.2835821 |   26.96911 | -2.053218e-08 | 0.594827064 | 0 |   1363382.6 | 0.21739130 | ⋯ |     15.60932 |  67 | 3.322270e-01 | -1.150879e-02 | 3.124268e-01 | 0.3009180 |    15.73283 |    15.74282 | 0.209575117 | 0 |\n",
       "| 2 | 0.11900 | 0.6567491 | 1 | 0.2794118 |   27.34302 |  3.789182e-09 | 0.594920127 | 0 |   1134045.3 | 0.10576923 | ⋯ |     15.79620 |  68 | 2.538926e-01 |  5.294659e-02 | 3.438380e-01 | 0.3967845 |    15.92177 |    15.93016 | 0.006674408 | 0 |\n",
       "| 3 | 0.28200 | 1.0000000 | 1 | 0.2318841 | 3817.29126 | -4.223939e+00 | 0.003960514 | 0 |   2425723.6 | 0.05839416 | ⋯ |     14.43619 |  69 | 2.392369e-01 |  7.562047e-02 | 3.703775e-01 | 0.4459980 |    14.57444 |    14.58119 | 0.166880861 | 0 |\n",
       "| 4 | 0.04375 | 0.9999802 | 1 | 0.1818182 |   23.08996 | -2.235318e-02 | 0.595819184 | 0 |    677993.1 | 0.21311475 | ⋯ |     13.21403 |  66 | 2.702403e-01 |  1.058040e-01 | 4.507252e-01 | 0.5565292 |    13.34951 |    13.35817 | 0.528596205 | 0 |\n",
       "| 5 | 0.33000 | 0.4083999 | 1 | 0.2954545 |   27.73315 |  3.789182e-09 | 0.594920127 | 0 | 824000203.6 | 0.16428571 | ⋯ | -12683.95082 | 132 | 2.718148e+04 | -1.001544e+04 | 1.001586e+04 | 0.4185631 | -9999.60320 | -9158.22601 | 0.104860550 | 0 |\n",
       "| 6 | 0.23450 | 0.4528910 | 1 | 0.3288591 |   27.32995 |  4.427833e-09 | 0.595191814 | 0 | 195875889.9 | 0.18137255 | ⋯ |     15.21148 | 149 | 3.472547e-01 |  9.518029e-02 | 5.111292e-01 | 0.6063095 |    15.42667 |    15.43705 | 2.093833499 | 0 |\n",
       "\n"
      ],
      "text/plain": [
       "  Amplitude AndersonDarling Autocor_length Beyond1Std CAR_mean   CAR_sigma    \n",
       "1 0.12125   0.6320207       1              0.2835821    26.96911 -2.053218e-08\n",
       "2 0.11900   0.6567491       1              0.2794118    27.34302  3.789182e-09\n",
       "3 0.28200   1.0000000       1              0.2318841  3817.29126 -4.223939e+00\n",
       "4 0.04375   0.9999802       1              0.1818182    23.08996 -2.235318e-02\n",
       "5 0.33000   0.4083999       1              0.2954545    27.73315  3.789182e-09\n",
       "6 0.23450   0.4528910       1              0.3288591    27.32995  4.427833e-09\n",
       "  CAR_tau     Con Eta_e       FluxPercentileRatioMid20 ⋯ c89_m4       cnt\n",
       "1 0.594827064 0     1363382.6 0.21739130               ⋯     15.60932  67\n",
       "2 0.594920127 0     1134045.3 0.10576923               ⋯     15.79620  68\n",
       "3 0.003960514 0     2425723.6 0.05839416               ⋯     14.43619  69\n",
       "4 0.595819184 0      677993.1 0.21311475               ⋯     13.21403  66\n",
       "5 0.594920127 0   824000203.6 0.16428571               ⋯ -12683.95082 132\n",
       "6 0.595191814 0   195875889.9 0.18137255               ⋯     15.21148 149\n",
       "  n09_c3       n09_hk_color  n09_jh_color n09_jk_color n09_m2      n09_m4     \n",
       "1 3.322270e-01 -1.150879e-02 3.124268e-01 0.3009180       15.73283    15.74282\n",
       "2 2.538926e-01  5.294659e-02 3.438380e-01 0.3967845       15.92177    15.93016\n",
       "3 2.392369e-01  7.562047e-02 3.703775e-01 0.4459980       14.57444    14.58119\n",
       "4 2.702403e-01  1.058040e-01 4.507252e-01 0.5565292       13.34951    13.35817\n",
       "5 2.718148e+04 -1.001544e+04 1.001586e+04 0.4185631    -9999.60320 -9158.22601\n",
       "6 3.472547e-01  9.518029e-02 5.111292e-01 0.6063095       15.42667    15.43705\n",
       "  ppmb        Tipo\n",
       "1 0.209575117 0   \n",
       "2 0.006674408 0   \n",
       "3 0.166880861 0   \n",
       "4 0.528596205 0   \n",
       "5 0.104860550 0   \n",
       "6 2.093833499 0   "
      ]
     },
     "metadata": {},
     "output_type": "display_data"
    }
   ],
   "source": [
    "head(RRL)"
   ]
  },
  {
   "cell_type": "code",
   "execution_count": 11,
   "metadata": {
    "vscode": {
     "languageId": "r"
    }
   },
   "outputs": [],
   "source": [
    "mtrys <- c(69, 34, 17, 8, 4, 2, 1)\n",
    "rrf.randomForest <- function() {\n",
    "    oob.errores <- c()\n",
    "\n",
    "    for (i in 1:7){\n",
    "        errores.k <- c()\n",
    "        for(j in 1:5) {\n",
    "            rrf.model <- randomForest(RRL[, -70], RRL[, 70], mtry=mtrys[i], ntree=1000)\n",
    "            oob.error <- rrf.model$err.rate[1000]\n",
    "            errores.k <- c(errores.k, oob.error)\n",
    "        }\n",
    "        oob.errores <- c(oob.errores, mean(errores.k))\n",
    "    }\n",
    "\n",
    "    return(oob.errores)\n",
    "}"
   ]
  },
  {
   "cell_type": "code",
   "execution_count": 12,
   "metadata": {
    "vscode": {
     "languageId": "r"
    }
   },
   "outputs": [],
   "source": [
    "rrf.errores <- rrf.randomForest()"
   ]
  },
  {
   "cell_type": "code",
   "execution_count": 13,
   "metadata": {
    "vscode": {
     "languageId": "r"
    }
   },
   "outputs": [
    {
     "data": {
      "image/png": "[encoded data removed]",
      "text/plain": [
       "plot without title"
      ]
     },
     "metadata": {
      "image/png": {
       "height": 420,
       "width": 420
      }
     },
     "output_type": "display_data"
    }
   ],
   "source": [
    "plot(mtrys, rrf.errores, type=\"l\", xlab=\"mtry\", ylab=\"OOB error\")"
   ]
  },
  {
   "cell_type": "markdown",
   "metadata": {},
   "source": [
    "### Conclusiones\n",
    "\n",
    "Podemos ver que el error decrece entre los valores 1 a 8 pero luego comienza a crecer de vuelta rápidamente. Sin embargo, al observar bien la gráfica nos damos cuenta de que tenemos un error entre 0.039 y 0.045, por lo que la diferencia no es significativa y logramos tener un error bastante bajo."
   ]
  },
  {
   "cell_type": "markdown",
   "metadata": {},
   "source": [
    "## Ejercicio 3"
   ]
  },
  {
   "cell_type": "code",
   "execution_count": 20,
   "metadata": {
    "vscode": {
     "languageId": "r"
    }
   },
   "outputs": [
    {
     "data": {
      "text/html": [
       "<table class=\"dataframe\">\n",
       "<caption>A data.frame: 6 × 144</caption>\n",
       "<thead>\n",
       "\t<tr><th></th><th scope=col>anno</th><th scope=col>m33</th><th scope=col>m34</th><th scope=col>m35</th><th scope=col>m36</th><th scope=col>m40</th><th scope=col>m41</th><th scope=col>m42</th><th scope=col>m43</th><th scope=col>m44</th><th scope=col>⋯</th><th scope=col>m183</th><th scope=col>m185</th><th scope=col>m187</th><th scope=col>m191</th><th scope=col>m193</th><th scope=col>m194</th><th scope=col>m195</th><th scope=col>m205</th><th scope=col>N_tipo</th><th scope=col>Numero</th></tr>\n",
       "\t<tr><th></th><th scope=col>&lt;fct&gt;</th><th scope=col>&lt;dbl&gt;</th><th scope=col>&lt;dbl&gt;</th><th scope=col>&lt;dbl&gt;</th><th scope=col>&lt;dbl&gt;</th><th scope=col>&lt;dbl&gt;</th><th scope=col>&lt;dbl&gt;</th><th scope=col>&lt;dbl&gt;</th><th scope=col>&lt;dbl&gt;</th><th scope=col>&lt;dbl&gt;</th><th scope=col>⋯</th><th scope=col>&lt;dbl&gt;</th><th scope=col>&lt;dbl&gt;</th><th scope=col>&lt;dbl&gt;</th><th scope=col>&lt;dbl&gt;</th><th scope=col>&lt;dbl&gt;</th><th scope=col>&lt;dbl&gt;</th><th scope=col>&lt;dbl&gt;</th><th scope=col>&lt;dbl&gt;</th><th scope=col>&lt;fct&gt;</th><th scope=col>&lt;fct&gt;</th></tr>\n",
       "</thead>\n",
       "<tbody>\n",
       "\t<tr><th scope=row>11</th><td>2006</td><td>32.24</td><td>0.27</td><td>0.06</td><td>0.01</td><td>0</td><td>0.30</td><td>0.02</td><td> 2.05</td><td>0.11</td><td>⋯</td><td>0</td><td>0</td><td>0</td><td>0</td><td>0.01</td><td>0</td><td>0</td><td>0</td><td>2</td><td>2e</td></tr>\n",
       "\t<tr><th scope=row>12</th><td>2006</td><td>33.41</td><td>0.34</td><td>0.05</td><td>0.01</td><td>0</td><td>0.12</td><td>0.02</td><td>10.42</td><td>0.25</td><td>⋯</td><td>0</td><td>0</td><td>0</td><td>0</td><td>0.02</td><td>0</td><td>0</td><td>0</td><td>2</td><td>2d</td></tr>\n",
       "\t<tr><th scope=row>13</th><td>2006</td><td>31.93</td><td>0.32</td><td>0.05</td><td>0.01</td><td>0</td><td>0.09</td><td>0.02</td><td> 9.32</td><td>0.24</td><td>⋯</td><td>0</td><td>0</td><td>0</td><td>0</td><td>0.01</td><td>0</td><td>0</td><td>0</td><td>2</td><td>2c</td></tr>\n",
       "\t<tr><th scope=row>14</th><td>2006</td><td>43.62</td><td>0.45</td><td>0.08</td><td>0.02</td><td>0</td><td>0.11</td><td>0.02</td><td>12.67</td><td>0.31</td><td>⋯</td><td>0</td><td>0</td><td>0</td><td>0</td><td>0.02</td><td>0</td><td>0</td><td>0</td><td>2</td><td>2a</td></tr>\n",
       "\t<tr><th scope=row>15</th><td>2006</td><td>47.08</td><td>0.47</td><td>0.09</td><td>0.02</td><td>0</td><td>0.20</td><td>0.03</td><td> 3.19</td><td>0.12</td><td>⋯</td><td>0</td><td>0</td><td>0</td><td>0</td><td>0.02</td><td>0</td><td>0</td><td>0</td><td>2</td><td>2b</td></tr>\n",
       "\t<tr><th scope=row>16</th><td>2006</td><td>21.38</td><td>0.20</td><td>0.03</td><td>0.00</td><td>0</td><td>0.06</td><td>0.01</td><td>12.01</td><td>0.27</td><td>⋯</td><td>0</td><td>0</td><td>0</td><td>0</td><td>0.01</td><td>0</td><td>0</td><td>0</td><td>2</td><td>2i</td></tr>\n",
       "</tbody>\n",
       "</table>\n"
      ],
      "text/latex": [
       "A data.frame: 6 × 144\n",
       "\\begin{tabular}{r|lllllllllllllllllllll}\n",
       "  & anno & m33 & m34 & m35 & m36 & m40 & m41 & m42 & m43 & m44 & ⋯ & m183 & m185 & m187 & m191 & m193 & m194 & m195 & m205 & N\\_tipo & Numero\\\\\n",
       "  & <fct> & <dbl> & <dbl> & <dbl> & <dbl> & <dbl> & <dbl> & <dbl> & <dbl> & <dbl> & ⋯ & <dbl> & <dbl> & <dbl> & <dbl> & <dbl> & <dbl> & <dbl> & <dbl> & <fct> & <fct>\\\\\n",
       "\\hline\n",
       "\t11 & 2006 & 32.24 & 0.27 & 0.06 & 0.01 & 0 & 0.30 & 0.02 &  2.05 & 0.11 & ⋯ & 0 & 0 & 0 & 0 & 0.01 & 0 & 0 & 0 & 2 & 2e\\\\\n",
       "\t12 & 2006 & 33.41 & 0.34 & 0.05 & 0.01 & 0 & 0.12 & 0.02 & 10.42 & 0.25 & ⋯ & 0 & 0 & 0 & 0 & 0.02 & 0 & 0 & 0 & 2 & 2d\\\\\n",
       "\t13 & 2006 & 31.93 & 0.32 & 0.05 & 0.01 & 0 & 0.09 & 0.02 &  9.32 & 0.24 & ⋯ & 0 & 0 & 0 & 0 & 0.01 & 0 & 0 & 0 & 2 & 2c\\\\\n",
       "\t14 & 2006 & 43.62 & 0.45 & 0.08 & 0.02 & 0 & 0.11 & 0.02 & 12.67 & 0.31 & ⋯ & 0 & 0 & 0 & 0 & 0.02 & 0 & 0 & 0 & 2 & 2a\\\\\n",
       "\t15 & 2006 & 47.08 & 0.47 & 0.09 & 0.02 & 0 & 0.20 & 0.03 &  3.19 & 0.12 & ⋯ & 0 & 0 & 0 & 0 & 0.02 & 0 & 0 & 0 & 2 & 2b\\\\\n",
       "\t16 & 2006 & 21.38 & 0.20 & 0.03 & 0.00 & 0 & 0.06 & 0.01 & 12.01 & 0.27 & ⋯ & 0 & 0 & 0 & 0 & 0.01 & 0 & 0 & 0 & 2 & 2i\\\\\n",
       "\\end{tabular}\n"
      ],
      "text/markdown": [
       "\n",
       "A data.frame: 6 × 144\n",
       "\n",
       "| <!--/--> | anno &lt;fct&gt; | m33 &lt;dbl&gt; | m34 &lt;dbl&gt; | m35 &lt;dbl&gt; | m36 &lt;dbl&gt; | m40 &lt;dbl&gt; | m41 &lt;dbl&gt; | m42 &lt;dbl&gt; | m43 &lt;dbl&gt; | m44 &lt;dbl&gt; | ⋯ ⋯ | m183 &lt;dbl&gt; | m185 &lt;dbl&gt; | m187 &lt;dbl&gt; | m191 &lt;dbl&gt; | m193 &lt;dbl&gt; | m194 &lt;dbl&gt; | m195 &lt;dbl&gt; | m205 &lt;dbl&gt; | N_tipo &lt;fct&gt; | Numero &lt;fct&gt; |\n",
       "|---|---|---|---|---|---|---|---|---|---|---|---|---|---|---|---|---|---|---|---|---|---|\n",
       "| 11 | 2006 | 32.24 | 0.27 | 0.06 | 0.01 | 0 | 0.30 | 0.02 |  2.05 | 0.11 | ⋯ | 0 | 0 | 0 | 0 | 0.01 | 0 | 0 | 0 | 2 | 2e |\n",
       "| 12 | 2006 | 33.41 | 0.34 | 0.05 | 0.01 | 0 | 0.12 | 0.02 | 10.42 | 0.25 | ⋯ | 0 | 0 | 0 | 0 | 0.02 | 0 | 0 | 0 | 2 | 2d |\n",
       "| 13 | 2006 | 31.93 | 0.32 | 0.05 | 0.01 | 0 | 0.09 | 0.02 |  9.32 | 0.24 | ⋯ | 0 | 0 | 0 | 0 | 0.01 | 0 | 0 | 0 | 2 | 2c |\n",
       "| 14 | 2006 | 43.62 | 0.45 | 0.08 | 0.02 | 0 | 0.11 | 0.02 | 12.67 | 0.31 | ⋯ | 0 | 0 | 0 | 0 | 0.02 | 0 | 0 | 0 | 2 | 2a |\n",
       "| 15 | 2006 | 47.08 | 0.47 | 0.09 | 0.02 | 0 | 0.20 | 0.03 |  3.19 | 0.12 | ⋯ | 0 | 0 | 0 | 0 | 0.02 | 0 | 0 | 0 | 2 | 2b |\n",
       "| 16 | 2006 | 21.38 | 0.20 | 0.03 | 0.00 | 0 | 0.06 | 0.01 | 12.01 | 0.27 | ⋯ | 0 | 0 | 0 | 0 | 0.01 | 0 | 0 | 0 | 2 | 2i |\n",
       "\n"
      ],
      "text/plain": [
       "   anno m33   m34  m35  m36  m40 m41  m42  m43   m44  ⋯ m183 m185 m187 m191\n",
       "11 2006 32.24 0.27 0.06 0.01 0   0.30 0.02  2.05 0.11 ⋯ 0    0    0    0   \n",
       "12 2006 33.41 0.34 0.05 0.01 0   0.12 0.02 10.42 0.25 ⋯ 0    0    0    0   \n",
       "13 2006 31.93 0.32 0.05 0.01 0   0.09 0.02  9.32 0.24 ⋯ 0    0    0    0   \n",
       "14 2006 43.62 0.45 0.08 0.02 0   0.11 0.02 12.67 0.31 ⋯ 0    0    0    0   \n",
       "15 2006 47.08 0.47 0.09 0.02 0   0.20 0.03  3.19 0.12 ⋯ 0    0    0    0   \n",
       "16 2006 21.38 0.20 0.03 0.00 0   0.06 0.01 12.01 0.27 ⋯ 0    0    0    0   \n",
       "   m193 m194 m195 m205 N_tipo Numero\n",
       "11 0.01 0    0    0    2      2e    \n",
       "12 0.02 0    0    0    2      2d    \n",
       "13 0.01 0    0    0    2      2c    \n",
       "14 0.02 0    0    0    2      2a    \n",
       "15 0.02 0    0    0    2      2b    \n",
       "16 0.01 0    0    0    2      2i    "
      ]
     },
     "metadata": {},
     "output_type": "display_data"
    }
   ],
   "source": [
    "load(\"lampone.Rdata\")\n",
    "head(lampone)\n"
   ]
  },
  {
   "cell_type": "code",
   "execution_count": null,
   "metadata": {
    "vscode": {
     "languageId": "r"
    }
   },
   "outputs": [],
   "source": [
    "lampone.vars <- lampone[, -c(1, 143, 144)] # La clase esta en 1 y 143, sacamos la 144 porque da error\n"
   ]
  },
  {
   "cell_type": "code",
   "execution_count": 21,
   "metadata": {
    "vscode": {
     "languageId": "r"
    }
   },
   "outputs": [],
   "source": [
    "# Random Forest\n",
    "lampone.rf <- randomForest(lampone.vars, lampone[, 143], ntree=1000, mtry=17)"
   ]
  },
  {
   "cell_type": "code",
   "execution_count": 23,
   "metadata": {
    "vscode": {
     "languageId": "r"
    }
   },
   "outputs": [
    {
     "data": {
      "text/html": [
       "0.102040816326531"
      ],
      "text/latex": [
       "0.102040816326531"
      ],
      "text/markdown": [
       "0.102040816326531"
      ],
      "text/plain": [
       "[1] 0.1020408"
      ]
     },
     "metadata": {},
     "output_type": "display_data"
    }
   ],
   "source": [
    "lampone.rf$err.rate[1000]"
   ]
  },
  {
   "cell_type": "code",
   "execution_count": 28,
   "metadata": {
    "vscode": {
     "languageId": "r"
    }
   },
   "outputs": [],
   "source": [
    "lampone.boosting <- boosting(N_tipo~., lampone[, - c(1, 144)], mfinal=1000, coef=\"Freund\", control=rpart.control(maxdepth=17))"
   ]
  },
  {
   "cell_type": "code",
   "execution_count": 30,
   "metadata": {
    "vscode": {
     "languageId": "r"
    }
   },
   "outputs": [
    {
     "name": "stderr",
     "output_type": "stream",
     "text": [
      "Warning message in svm.default(x, y, scale = scale, ..., na.action = na.action):\n",
      "“Variable(s) ‘m40’ and ‘m104’ and ‘m128’ and ‘m142’ and ‘m150’ and ‘m152’ and ‘m158’ and ‘m159’ and ‘m161’ and ‘m165’ and ‘m176’ and ‘m178’ and ‘m179’ and ‘m181’ and ‘m205’ constant. Cannot scale data.”\n"
     ]
    }
   ],
   "source": [
    "lampone.svm.polinomial <- svm(N_tipo~., lampone[, - c(1, 144)], kernel=\"polynomial\", degree=2, cost=1, gamma=1)"
   ]
  },
  {
   "cell_type": "code",
   "execution_count": 31,
   "metadata": {
    "vscode": {
     "languageId": "r"
    }
   },
   "outputs": [
    {
     "name": "stderr",
     "output_type": "stream",
     "text": [
      "Warning message in svm.default(x, y, scale = scale, ..., na.action = na.action):\n",
      "“Variable(s) ‘m40’ and ‘m104’ and ‘m128’ and ‘m142’ and ‘m150’ and ‘m152’ and ‘m158’ and ‘m159’ and ‘m161’ and ‘m165’ and ‘m176’ and ‘m178’ and ‘m179’ and ‘m181’ and ‘m205’ constant. Cannot scale data.”\n"
     ]
    }
   ],
   "source": [
    "lampone.svm.rbf <- svm(N_tipo~., lampone[, - c(1, 144)], kernel=\"radial\", cost=1, gamma=1)"
   ]
  },
  {
   "cell_type": "markdown",
   "metadata": {},
   "source": [
    "## Ejercicio 4"
   ]
  }
 ],
 "metadata": {
  "kernelspec": {
   "display_name": "R",
   "language": "R",
   "name": "ir"
  },
  "language_info": {
   "codemirror_mode": "r",
   "file_extension": ".r",
   "mimetype": "text/x-r-source",
   "name": "R",
   "pygments_lexer": "r",
   "version": "4.2.1"
  },
  "orig_nbformat": 4
 },
 "nbformat": 4,
 "nbformat_minor": 2
}
